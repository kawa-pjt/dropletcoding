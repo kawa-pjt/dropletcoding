{
 "cells": [
  {
   "cell_type": "code",
   "execution_count": null,
   "id": "dcdc53d7",
   "metadata": {},
   "outputs": [],
   "source": [
    "import numpy as np\n",
    "import anndata as ad\n",
    "import pandas as pd\n",
    "from pandas import api\n",
    "from matplotlib import interactive\n",
    "%matplotlib inline\n",
    "import matplotlib.pyplot as plt\n",
    "import seaborn as sns\n",
    "from matplotlib.pyplot import rc_context\n",
    "import scanpy as sc\n",
    "sc.settings.verbosity = 3"
   ]
  },
  {
   "cell_type": "code",
   "execution_count": null,
   "id": "c69609d2",
   "metadata": {},
   "outputs": [],
   "source": [
    "def load_gene_table(gene_table):\n",
    "\n",
    "    if isinstance(gene_table, pd.DataFrame):\n",
    "        return gene_table\n",
    "    else:\n",
    "        return pd.read_csv(gene_table, sep='\\t').set_index('gene_id')"
   ]
  },
  {
   "cell_type": "code",
   "execution_count": null,
   "id": "1fa0bfdf",
   "metadata": {},
   "outputs": [],
   "source": [
    "Cellline_genes = pd.read_csv('~/PATH_TO/E-MTAB-2770-query-results.tpms.tsv', sep='\\t',skiprows=4)\n",
    "#https://www.ebi.ac.uk/gxa/experiments/E-MTAB-2770/"
   ]
  },
  {
   "cell_type": "code",
   "execution_count": null,
   "id": "02ed2bca",
   "metadata": {},
   "outputs": [],
   "source": [
    "Cellline_genes= Cellline_genes[['Gene ID','Gene Name','K-562, blast phase chronic myelogenous leukemia, BCR-ABL1 positive', 'THP-1, childhood acute monocytic leukemia']]"
   ]
  },
  {
   "cell_type": "code",
   "execution_count": null,
   "id": "e707885a",
   "metadata": {},
   "outputs": [],
   "source": [
    "K562_genes= Cellline_genes[Cellline_genes['K-562, blast phase chronic myelogenous leukemia, BCR-ABL1 positive'] > 100]\n",
    "K562_genes= K562_genes[K562_genes['THP-1, childhood acute monocytic leukemia'] < 3]\n",
    "K562_markerID = K562_genes['Gene Name'].tolist()\n",
    "\n",
    "THP1_genes= Cellline_genes[Cellline_genes['THP-1, childhood acute monocytic leukemia'] > 200]\n",
    "THP1_genes=  THP1_genes[THP1_genes['K-562, blast phase chronic myelogenous leukemia, BCR-ABL1 positive'] < 5]\n",
    "THP1_markerID = THP1_genes['Gene Name'].tolist()\n",
    "\n",
    "print(len(THP1_markerID), len(K562_markerID))"
   ]
  },
  {
   "cell_type": "code",
   "execution_count": null,
   "id": "d2a44d02",
   "metadata": {},
   "outputs": [],
   "source": [
    "ref_ID= K562_markerID + THP1_markerID"
   ]
  },
  {
   "cell_type": "code",
   "execution_count": null,
   "id": "76dc9899",
   "metadata": {},
   "outputs": [],
   "source": [
    "adata = sc.read_umi_tools('~/PATH_TO/processed/cDNA/cDNA_fk209_2022-05-24-10X_re.star.gene_cell_counts.txt.gz')"
   ]
  },
  {
   "cell_type": "code",
   "execution_count": null,
   "id": "f07dea78",
   "metadata": {},
   "outputs": [],
   "source": [
    "var_names = adata.var_names.intersection(adata.var_names)\n",
    "adata = adata[:, var_names]"
   ]
  },
  {
   "cell_type": "code",
   "execution_count": null,
   "id": "fa4d3d35",
   "metadata": {},
   "outputs": [],
   "source": [
    "adata"
   ]
  },
  {
   "cell_type": "code",
   "execution_count": null,
   "id": "f0bef4b0",
   "metadata": {},
   "outputs": [],
   "source": [
    "gene_table = load_gene_table('~/PATH_TO/gencode.v38.annotation.txt')\n",
    "for col in gene_table.columns:\n",
    "   adata.var.loc[:, col] = gene_table[col]"
   ]
  },
  {
   "cell_type": "code",
   "execution_count": null,
   "id": "608cb71e",
   "metadata": {},
   "outputs": [],
   "source": [
    "for col in gene_table.columns:\n",
    "   adata.var.loc[:, col] = gene_table[col]"
   ]
  },
  {
   "cell_type": "code",
   "execution_count": null,
   "id": "9c09f31c",
   "metadata": {},
   "outputs": [],
   "source": [
    "def K562(adata):\n",
    "    #adata = self.adata\n",
    "    K562_markers = K562_genes['Gene Name'].tolist()\n",
    "    K562_genes_mm_ens = adata.var_names[np.in1d(adata.var.gene_name, K562_markers)]\n",
    "    sc.tl.score_genes(adata, K562_genes_mm_ens, score_name='K562_score')"
   ]
  },
  {
   "cell_type": "code",
   "execution_count": null,
   "id": "1c16b249",
   "metadata": {},
   "outputs": [],
   "source": [
    "def THP1(adata):\n",
    "    #adata = self.adata\n",
    "    THP1_markers = THP1_genes['Gene Name'].tolist()\n",
    "    THP1_genes_mm_ens = adata.var_names[np.in1d(adata.var.gene_name, THP1_markers)]\n",
    "    sc.tl.score_genes(adata, THP1_genes_mm_ens, score_name='THP1_score')"
   ]
  },
  {
   "cell_type": "code",
   "execution_count": null,
   "id": "38dbcd58",
   "metadata": {},
   "outputs": [],
   "source": [
    "#gene全体を使うときのみ\n",
    "sc.pp.filter_cells(adata, min_genes=250)\n",
    "sc.pp.filter_genes(adata, min_cells=25)"
   ]
  },
  {
   "cell_type": "code",
   "execution_count": null,
   "id": "b20617d6",
   "metadata": {},
   "outputs": [],
   "source": [
    "adata"
   ]
  },
  {
   "cell_type": "code",
   "execution_count": null,
   "id": "0dfde554",
   "metadata": {},
   "outputs": [],
   "source": [
    "sc.pl.highest_expr_genes(adata, n_top=20)"
   ]
  },
  {
   "cell_type": "code",
   "execution_count": null,
   "id": "502543c8",
   "metadata": {},
   "outputs": [],
   "source": [
    "adata.var['mt'] = adata.var.seqname == 'chrM'  # annotate the group of mitochondrial genes as 'mt'\n",
    "sc.pp.calculate_qc_metrics(adata, qc_vars=['mt'], percent_top=None, log1p=False, inplace=True)"
   ]
  },
  {
   "cell_type": "code",
   "execution_count": null,
   "id": "0e719c7c",
   "metadata": {},
   "outputs": [],
   "source": [
    "sc.pl.violin(adata, ['n_genes_by_counts', 'total_counts', 'pct_counts_mt'], jitter=0.1, multi_panel=True)"
   ]
  },
  {
   "cell_type": "code",
   "execution_count": null,
   "id": "6538e478",
   "metadata": {},
   "outputs": [],
   "source": [
    "adata = adata[adata.obs.pct_counts_mt < 8, :] \n",
    "adata = adata[adata.obs.pct_counts_mt > 2, :] \n",
    "adata = adata[adata.obs.total_counts < 8000, :]\n",
    "adata = adata[adata.obs.total_counts > 1000, :]\n",
    "adata = adata[adata.obs.n_genes_by_counts < 3500,:]"
   ]
  },
  {
   "cell_type": "code",
   "execution_count": null,
   "id": "fffc01d2",
   "metadata": {},
   "outputs": [],
   "source": [
    "K562(adata)\n",
    "THP1(adata)"
   ]
  },
  {
   "cell_type": "code",
   "execution_count": null,
   "id": "2a7eccfb",
   "metadata": {},
   "outputs": [],
   "source": [
    "sc.pl.violin(adata, ['n_genes_by_counts', 'total_counts', 'pct_counts_mt'], jitter=0.1, multi_panel=True)"
   ]
  },
  {
   "cell_type": "code",
   "execution_count": null,
   "id": "81d264a3",
   "metadata": {},
   "outputs": [],
   "source": [
    "adata"
   ]
  },
  {
   "cell_type": "code",
   "execution_count": null,
   "id": "2809c686",
   "metadata": {},
   "outputs": [],
   "source": [
    "sc.pp.normalize_total(adata, target_sum=8e3)\n",
    "sc.pp.log1p(adata)\n",
    "adata_raw = adata"
   ]
  },
  {
   "cell_type": "code",
   "execution_count": null,
   "id": "e53d8c7b",
   "metadata": {},
   "outputs": [],
   "source": [
    "#adata_raw = adata\n",
    "adata = adata_raw"
   ]
  },
  {
   "cell_type": "code",
   "execution_count": null,
   "id": "24338b08",
   "metadata": {},
   "outputs": [],
   "source": [
    "sc.pp.highly_variable_genes(adata, min_mean=0.025, max_mean=2, min_disp=0.5)\n",
    "#sc.pp.highly_variable_genes(adata)"
   ]
  },
  {
   "cell_type": "code",
   "execution_count": null,
   "id": "686c99d9",
   "metadata": {},
   "outputs": [],
   "source": [
    "sc.pl.highly_variable_genes(adata)"
   ]
  },
  {
   "cell_type": "code",
   "execution_count": null,
   "id": "940a9b95",
   "metadata": {},
   "outputs": [],
   "source": [
    "adata.var['ref_ID'] = np.in1d(adata.var.gene_name, ref_ID)\n",
    "adata"
   ]
  },
  {
   "cell_type": "code",
   "execution_count": null,
   "id": "183dfe27",
   "metadata": {},
   "outputs": [],
   "source": [
    "adata = adata[:, adata.var.ref_ID]\n",
    "adata"
   ]
  },
  {
   "cell_type": "code",
   "execution_count": null,
   "id": "7ce70b10",
   "metadata": {},
   "outputs": [],
   "source": [
    "sc.pp.scale(adata, max_value=10)"
   ]
  },
  {
   "cell_type": "code",
   "execution_count": null,
   "id": "c2af6cce",
   "metadata": {},
   "outputs": [],
   "source": [
    "sc.tl.pca(adata, svd_solver='arpack')"
   ]
  },
  {
   "cell_type": "code",
   "execution_count": null,
   "id": "8db71014",
   "metadata": {},
   "outputs": [],
   "source": [
    "sc.pl.pca(adata, color=adata.obs, projection='2d', size=100)"
   ]
  },
  {
   "cell_type": "code",
   "execution_count": null,
   "id": "7ab3dd67",
   "metadata": {},
   "outputs": [],
   "source": [
    "sc.pl.pca_variance_ratio(adata, log=True, n_pcs=7)"
   ]
  },
  {
   "cell_type": "code",
   "execution_count": null,
   "id": "f6cb475f",
   "metadata": {},
   "outputs": [],
   "source": [
    "sc.pp.neighbors(adata, n_neighbors=200, n_pcs=5)\n",
    "sc.tl.umap(adata)\n",
    "sc.pl.umap(adata)"
   ]
  },
  {
   "cell_type": "code",
   "execution_count": null,
   "id": "bb9475c9",
   "metadata": {},
   "outputs": [],
   "source": [
    "sc.tl.leiden(adata, resolution = 0.1)"
   ]
  },
  {
   "cell_type": "code",
   "execution_count": null,
   "id": "b2d7ac9c",
   "metadata": {},
   "outputs": [],
   "source": [
    "with rc_context({'figure.figsize': (5, 5)}):\n",
    "    sc.pl.umap(adata, color=adata.obs)"
   ]
  },
  {
   "cell_type": "code",
   "execution_count": null,
   "id": "a1bd0160",
   "metadata": {},
   "outputs": [],
   "source": [
    "plt.set_cmap('viridis')\n",
    "plt.cm.get_cmap()"
   ]
  },
  {
   "cell_type": "code",
   "execution_count": null,
   "id": "04e95071",
   "metadata": {},
   "outputs": [],
   "source": [
    "for col in adata.obs:\n",
    "    with rc_context({'figure.figsize': (5, 5)}):\n",
    "        sc.pl.umap(adata, color=col, size=10, save=\"_fk209_clusteing\"+str(col)+\".pdf\")"
   ]
  },
  {
   "cell_type": "code",
   "execution_count": null,
   "id": "922c2639",
   "metadata": {},
   "outputs": [],
   "source": [
    "adata.write_h5ad('~/PATH_TO/processed/others/2022-05-24-10X_final/2022-05-24-10X/fk209_proc_cDNA.h5ad')"
   ]
  },
  {
   "cell_type": "code",
   "execution_count": null,
   "id": "9cc7deee",
   "metadata": {},
   "outputs": [],
   "source": []
  }
 ],
 "metadata": {
  "kernelspec": {
   "display_name": "kappa_1",
   "language": "python",
   "name": "kappa_1"
  },
  "language_info": {
   "codemirror_mode": {
    "name": "ipython",
    "version": 3
   },
   "file_extension": ".py",
   "mimetype": "text/x-python",
   "name": "python",
   "nbconvert_exporter": "python",
   "pygments_lexer": "ipython3",
   "version": "3.9.13"
  }
 },
 "nbformat": 4,
 "nbformat_minor": 5
}
