{
 "cells": [
  {
   "cell_type": "code",
   "execution_count": 1,
   "id": "dcdc53d7",
   "metadata": {},
   "outputs": [],
   "source": [
    "import numpy as np\n",
    "import anndata as ad\n",
    "import pandas as pd\n",
    "import matplotlib.pyplot as plt\n",
    "import statistics\n",
    "from scipy.spatial import distance\n",
    "from scipy import sparse"
   ]
  },
  {
   "cell_type": "code",
   "execution_count": 2,
   "id": "aaa0ea99",
   "metadata": {},
   "outputs": [],
   "source": [
    "adata_proc = ad.read_h5ad('PATH_TO_h5ad')"
   ]
  },
  {
   "cell_type": "code",
   "execution_count": 5,
   "id": "794afad5",
   "metadata": {},
   "outputs": [],
   "source": [
    "input_prefix = '~/PATH/fk209_2022-05-24-10X_1e-3_th50_ee_'"
   ]
  },
  {
   "cell_type": "code",
   "execution_count": 6,
   "id": "9e5c6d0c",
   "metadata": {},
   "outputs": [],
   "source": [
    "output_prefix = '~/PATH/fk209_stat_'"
   ]
  },
  {
   "cell_type": "markdown",
   "id": "33f388fc",
   "metadata": {},
   "source": [
    "# Identifying cells with dBB type combinations"
   ]
  },
  {
   "cell_type": "code",
   "execution_count": 7,
   "id": "dc8106ad",
   "metadata": {},
   "outputs": [],
   "source": [
    "def dist_12(tab, i1, i2):  # TODO also use color distance?\n",
    "    hamdist = len(list(tab.loc[i1, 'idx'])) * distance.hamming(list(tab.loc[i1, 'idx']), list(tab.loc[i2, 'idx'])) # hamming dist\n",
    "    return (hamdist < dist) \n",
    "\n",
    "def create_adj_matrix(tab):\n",
    "    return np.asarray([[dist_12(tab, i1, i2) for i1 in tab.index] for i2 in tab.index])\n",
    "\n",
    "def group_idx(tab):\n",
    "    mat = create_adj_matrix(tab)\n",
    "    n, components = sparse.csgraph.connected_components(mat, directed=True)\n",
    "    return n, components"
   ]
  },
  {
   "cell_type": "code",
   "execution_count": 8,
   "id": "22e77115",
   "metadata": {},
   "outputs": [],
   "source": [
    "def matching(adata, cond, dist):\n",
    "\n",
    "    idx = pd.read_csv(input_prefix + cond + '_pattern.txt', sep='\\t')\n",
    "    idx.columns = [\"sc_id\",\"idx\"]\n",
    "\n",
    "    n, clusters = group_idx(idx)\n",
    "    print(\"Num_dropletIDs, \" + str(n))\n",
    "    idx = idx.assign(cluster=clusters)\n",
    "    idx = idx.sort_values('cluster')\n",
    "    idx = idx.loc[:,[\"sc_id\",\"cluster\"]]\n",
    "    \n",
    "    labels = []\n",
    "\n",
    "    for i in range(len(adata.obs.index)):\n",
    "        if idx['sc_id'].isin([adata.obs.index[i]]).any():\n",
    "            label = idx[idx['sc_id']==adata.obs.index[i]]['cluster']\n",
    "            labels.append(label.values[0])\n",
    "        else:\n",
    "            labels.append('no_idx')\n",
    "\n",
    "    print(\"Num_cells_with_dropletIDs:\" + str(len(labels) - labels.count('no_idx')))\n",
    "    \n",
    "    adata.obs['idx'] = labels\n",
    "\n",
    "    new = pd.concat([adata.obs['leiden'], adata.obs['K562_score'], adata.obs['THP1_score'], adata.obs['idx']], axis=1)\n",
    "    new = new[new.duplicated(subset='idx', keep = False)]\n",
    "    new = new[new.idx != 'no_idx']\n",
    "    new = new.sort_values('idx')\n",
    "    new.leiden = new.leiden.astype(int)\n",
    "\n",
    "    grouped = new.groupby('idx')\n",
    "\n",
    "    stat = pd.concat([grouped.size(), grouped.mean()], axis=1)\n",
    "    stat.columns = (['num_cells', 'cell_types', 'K562_score ', 'THP1_score '])\n",
    "\n",
    "    plt.hist(stat.cell_types)\n",
    "    plt.title(cond + \"_dist\" + str(dist-1))\n",
    "    plt.savefig(output_prefix + cond + '_dist' + str(dist-1) + '.png')\n",
    "    plt.close()\n",
    "\n",
    "    stat.to_csv(output_prefix + cond + '_dist' + str(dist-1) + '.txt', sep='\\t', header=True)"
   ]
  },
  {
   "cell_type": "code",
   "execution_count": 9,
   "id": "76ac4167",
   "metadata": {},
   "outputs": [],
   "source": [
    "def summary(cond_list, dist_list):\n",
    "    \n",
    "    colnames = ['cond','dist','num_units','max_num_cells/unit','min_num_cells/unit','error_rate']\n",
    "    stats_summary = pd.DataFrame(columns = colnames)\n",
    "\n",
    "    for i in range(len(cond_list)):\n",
    "\n",
    "        cond = cond_list[i]\n",
    "        dist = dist_list[i]\n",
    "\n",
    "        stat = pd.read_csv(output_prefix + cond + '_dist' + str(dist-1) + '.txt', sep='\\t')\n",
    "        \n",
    "        identity = []\n",
    "\n",
    "        for l in range(len(stat.cell_types)):\n",
    "            if ((stat.cell_types.iloc[l] == 0.0)|(stat.cell_types.iloc[l] == 1.0)):\n",
    "                identity.append(1)\n",
    "            else:\n",
    "                identity.append(0)\n",
    "\n",
    "        stats_summary = pd.concat([stats_summary,pd.DataFrame([[cond, \\\n",
    "                                                                dist-1, \\\n",
    "                                                                len(stat.cell_types), \\\n",
    "                                                                max(stat.num_cells.tolist()), \\\n",
    "                                                                min(stat.num_cells.tolist()), \\\n",
    "                                                                1-statistics.mean(identity)]],\\\n",
    "                                                               columns = colnames)], axis=0)\n",
    "        \n",
    "    return stats_summary"
   ]
  },
  {
   "cell_type": "code",
   "execution_count": 10,
   "id": "da4625e6",
   "metadata": {
    "scrolled": true
   },
   "outputs": [
    {
     "name": "stdout",
     "output_type": "stream",
     "text": [
      "2-9\n",
      "Num_dropletIDs, 1442\n",
      "Num_cells_with_dropletIDs:1155\n",
      "3-9\n",
      "Num_dropletIDs, 851\n",
      "Num_cells_with_dropletIDs:584\n",
      "4-9\n",
      "Num_dropletIDs, 439\n",
      "Num_cells_with_dropletIDs:289\n",
      "5-9\n",
      "Num_dropletIDs, 211\n",
      "Num_cells_with_dropletIDs:134\n"
     ]
    },
    {
     "data": {
      "text/html": [
       "<div>\n",
       "<style scoped>\n",
       "    .dataframe tbody tr th:only-of-type {\n",
       "        vertical-align: middle;\n",
       "    }\n",
       "\n",
       "    .dataframe tbody tr th {\n",
       "        vertical-align: top;\n",
       "    }\n",
       "\n",
       "    .dataframe thead th {\n",
       "        text-align: right;\n",
       "    }\n",
       "</style>\n",
       "<table border=\"1\" class=\"dataframe\">\n",
       "  <thead>\n",
       "    <tr style=\"text-align: right;\">\n",
       "      <th></th>\n",
       "      <th>cond</th>\n",
       "      <th>dist</th>\n",
       "      <th>num_units</th>\n",
       "      <th>max_num_cells/unit</th>\n",
       "      <th>min_num_cells/unit</th>\n",
       "      <th>error_rate</th>\n",
       "    </tr>\n",
       "  </thead>\n",
       "  <tbody>\n",
       "    <tr>\n",
       "      <th>0</th>\n",
       "      <td>2-9</td>\n",
       "      <td>0</td>\n",
       "      <td>144</td>\n",
       "      <td>5</td>\n",
       "      <td>2</td>\n",
       "      <td>0.375</td>\n",
       "    </tr>\n",
       "    <tr>\n",
       "      <th>0</th>\n",
       "      <td>3-9</td>\n",
       "      <td>0</td>\n",
       "      <td>40</td>\n",
       "      <td>3</td>\n",
       "      <td>2</td>\n",
       "      <td>0.125</td>\n",
       "    </tr>\n",
       "    <tr>\n",
       "      <th>0</th>\n",
       "      <td>4-9</td>\n",
       "      <td>0</td>\n",
       "      <td>15</td>\n",
       "      <td>3</td>\n",
       "      <td>2</td>\n",
       "      <td>0.000</td>\n",
       "    </tr>\n",
       "    <tr>\n",
       "      <th>0</th>\n",
       "      <td>5-9</td>\n",
       "      <td>0</td>\n",
       "      <td>4</td>\n",
       "      <td>3</td>\n",
       "      <td>2</td>\n",
       "      <td>0.000</td>\n",
       "    </tr>\n",
       "  </tbody>\n",
       "</table>\n",
       "</div>"
      ],
      "text/plain": [
       "  cond dist num_units max_num_cells/unit min_num_cells/unit  error_rate\n",
       "0  2-9    0       144                  5                  2       0.375\n",
       "0  3-9    0        40                  3                  2       0.125\n",
       "0  4-9    0        15                  3                  2       0.000\n",
       "0  5-9    0         4                  3                  2       0.000"
      ]
     },
     "execution_count": 10,
     "metadata": {},
     "output_type": "execute_result"
    }
   ],
   "source": [
    "cond_list = [\"2-9\", \"3-9\", \"4-9\", '5-9']\n",
    "dist_list =  [1,1,1,1]\n",
    "\n",
    "for i in range(len(cond_list)):\n",
    "    \n",
    "    cond = cond_list[i]\n",
    "    print(cond_list[i])\n",
    "    \n",
    "    dist = dist_list[i]\n",
    "\n",
    "    matching(adata=adata_proc, cond=cond, dist=dist)\n",
    "\n",
    "stats_summary = summary(cond_list, dist_list)\n",
    "stats_summary"
   ]
  },
  {
   "cell_type": "code",
   "execution_count": 11,
   "id": "d05a5be6",
   "metadata": {},
   "outputs": [],
   "source": [
    "stats_summary.to_csv(output_prefix + 'error_rates.txt', sep='\\t', header=True)"
   ]
  },
  {
   "cell_type": "code",
   "execution_count": null,
   "id": "9cc7deee",
   "metadata": {},
   "outputs": [],
   "source": []
  }
 ],
 "metadata": {
  "kernelspec": {
   "display_name": "kappa_1",
   "language": "python",
   "name": "kappa_1"
  },
  "language_info": {
   "codemirror_mode": {
    "name": "ipython",
    "version": 3
   },
   "file_extension": ".py",
   "mimetype": "text/x-python",
   "name": "python",
   "nbconvert_exporter": "python",
   "pygments_lexer": "ipython3",
   "version": "3.9.13"
  }
 },
 "nbformat": 4,
 "nbformat_minor": 5
}
